{
  "nbformat": 4,
  "nbformat_minor": 0,
  "metadata": {
    "colab": {
      "name": "Assignment2.ipynb",
      "provenance": [],
      "authorship_tag": "ABX9TyMXW6aIrlIDUZ6xi7Yj+kyn",
      "include_colab_link": true
    },
    "kernelspec": {
      "name": "python3",
      "display_name": "Python 3"
    },
    "language_info": {
      "name": "python"
    }
  },
  "cells": [
    {
      "cell_type": "markdown",
      "metadata": {
        "id": "view-in-github",
        "colab_type": "text"
      },
      "source": [
        "<a href=\"https://colab.research.google.com/github/orionscorp/Software-Engineering-IT1-Guya-Dipawitra/blob/main/Assignment2.ipynb\" target=\"_parent\"><img src=\"https://colab.research.google.com/assets/colab-badge.svg\" alt=\"Open In Colab\"/></a>"
      ]
    },
    {
      "cell_type": "code",
      "metadata": {
        "id": "gQD8oMnyf0dT"
      },
      "source": [
        "while True:\n",
        "  x = int(input(\"x:\"))\n",
        "  y = int(input(\"y:\"))\n",
        "  \n",
        "  if x==0 or y==0:\n",
        "    print(\"Error\")\n",
        "  elif x>0 and y>0:\n",
        "        print(\"Kuadran I\")\n",
        "  elif x<0 and y<0:\n",
        "        print(\"Kuadran III\")\n",
        "  elif x<0 and y>0:\n",
        "        print(\"Kuadran II\")\n",
        "  else:\n",
        "        print(\"Kuadran IV\")"
      ],
      "execution_count": null,
      "outputs": []
    }
  ]
}